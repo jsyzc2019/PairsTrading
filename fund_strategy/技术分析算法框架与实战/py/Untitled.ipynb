{
 "cells": [
  {
   "cell_type": "code",
   "execution_count": 3,
   "id": "cec71be5",
   "metadata": {},
   "outputs": [],
   "source": [
    "import _imports\n",
    "import pyvisflow as pvf\n",
    "from typing import (List, Tuple, Union, Dict)\n",
    "from collections import (namedtuple, defaultdict)\n",
    "from plotting import plot_subplots\n",
    "from tqdm import tqdm\n",
    "\n",
    "import pandas as pd\n",
    "import numpy as np\n",
    "import json"
   ]
  },
  {
   "cell_type": "code",
   "execution_count": 2,
   "id": "68a9c8f9",
   "metadata": {},
   "outputs": [],
   "source": [
    "import sys\n",
    "sys.path.append(\"C://Users//huangtuo//Quantitative-analysis-master//C-择时类//技术分析算法框架与实战//Technical Pattern Recognition//\")"
   ]
  },
  {
   "cell_type": "code",
   "execution_count": 6,
   "id": "ffe75ea5",
   "metadata": {},
   "outputs": [],
   "source": [
    "    with open(r'Data\\codefundsecname.json', 'r') as file:\n",
    "        code2secname = json.loads(file.read())"
   ]
  },
  {
   "cell_type": "code",
   "execution_count": 8,
   "id": "0c9555c1",
   "metadata": {},
   "outputs": [
    {
     "data": {
      "text/plain": [
       "{'000009.SH': '上证380',\n",
       " '000010.SH': '上证180',\n",
       " '000016.SH': '上证50',\n",
       " '000300.SH': '沪深300',\n",
       " '000688.SH': '科创50',\n",
       " '000852.SH': '中证1000',\n",
       " '000903.SH': '中证100',\n",
       " '000905.SH': '中证500',\n",
       " '000906.SH': '中证800',\n",
       " '399001.SZ': '深证成指',\n",
       " '399005.SZ': '中小板指',\n",
       " '399006.SZ': '创业板指',\n",
       " '399330.SZ': '深证100'}"
      ]
     },
     "execution_count": 8,
     "metadata": {},
     "output_type": "execute_result"
    }
   ],
   "source": [
    "code2secname"
   ]
  },
  {
   "cell_type": "code",
   "execution_count": 7,
   "id": "6170fcf0",
   "metadata": {},
   "outputs": [
    {
     "ename": "ValueError",
     "evalue": "I/O operation on closed file.",
     "output_type": "error",
     "traceback": [
      "\u001b[1;31m---------------------------------------------------------------------------\u001b[0m",
      "\u001b[1;31mValueError\u001b[0m                                Traceback (most recent call last)",
      "\u001b[1;32m~\\AppData\\Local\\Temp/ipykernel_29620/4225481020.py\u001b[0m in \u001b[0;36m<module>\u001b[1;34m\u001b[0m\n\u001b[1;32m----> 1\u001b[1;33m \u001b[0mcodefundsecname\u001b[0m \u001b[1;33m=\u001b[0m \u001b[0mjson\u001b[0m\u001b[1;33m.\u001b[0m\u001b[0mloads\u001b[0m\u001b[1;33m(\u001b[0m\u001b[0mfile\u001b[0m\u001b[1;33m.\u001b[0m\u001b[0mread\u001b[0m\u001b[1;33m(\u001b[0m\u001b[1;33m)\u001b[0m\u001b[1;33m)\u001b[0m\u001b[1;33m\u001b[0m\u001b[1;33m\u001b[0m\u001b[0m\n\u001b[0m",
      "\u001b[1;31mValueError\u001b[0m: I/O operation on closed file."
     ]
    }
   ],
   "source": [
    "codefundsecname = json.loads(file.read())"
   ]
  },
  {
   "cell_type": "code",
   "execution_count": 8,
   "id": "aaa865d2",
   "metadata": {},
   "outputs": [],
   "source": [
    "test_close = pd.read_pickle('C://temp//fund_data//base_data//mkt//close.pkl')\n",
    "test_pre_close = pd.read_pickle('C://temp//fund_data//base_data//mkt//pre_close.pkl')\n",
    "test_high = pd.read_pickle('C://temp//fund_data//base_data//mkt//high.pkl')\n",
    "test_low = pd.read_pickle('C://temp//fund_data//base_data//mkt//low.pkl')\n",
    "test_amount = pd.read_pickle('C://temp//fund_data//base_data//mkt//amount.pkl')\n",
    "test_open = pd.read_pickle('C://temp//fund_data//base_data//mkt//open.pkl')"
   ]
  },
  {
   "cell_type": "code",
   "execution_count": 9,
   "id": "96b64c78",
   "metadata": {},
   "outputs": [],
   "source": [
    "price = pd.read_csv(r'Data\\industry_zx_l2.csv', index_col=[0], parse_dates=[0])"
   ]
  },
  {
   "cell_type": "code",
   "execution_count": 10,
   "id": "883ec396",
   "metadata": {},
   "outputs": [
    {
     "data": {
      "text/html": [
       "<div>\n",
       "<style scoped>\n",
       "    .dataframe tbody tr th:only-of-type {\n",
       "        vertical-align: middle;\n",
       "    }\n",
       "\n",
       "    .dataframe tbody tr th {\n",
       "        vertical-align: top;\n",
       "    }\n",
       "\n",
       "    .dataframe thead th {\n",
       "        text-align: right;\n",
       "    }\n",
       "</style>\n",
       "<table border=\"1\" class=\"dataframe\">\n",
       "  <thead>\n",
       "    <tr style=\"text-align: right;\">\n",
       "      <th></th>\n",
       "      <th>OPEN</th>\n",
       "      <th>HIGH</th>\n",
       "      <th>LOW</th>\n",
       "      <th>CLOSE</th>\n",
       "      <th>symbol</th>\n",
       "    </tr>\n",
       "  </thead>\n",
       "  <tbody>\n",
       "    <tr>\n",
       "      <th>2021-12-24</th>\n",
       "      <td>140.0056</td>\n",
       "      <td>140.2271</td>\n",
       "      <td>137.1613</td>\n",
       "      <td>137.6010</td>\n",
       "      <td>CI005101.WI</td>\n",
       "    </tr>\n",
       "    <tr>\n",
       "      <th>2021-12-24</th>\n",
       "      <td>2370.3181</td>\n",
       "      <td>2373.3293</td>\n",
       "      <td>2294.6929</td>\n",
       "      <td>2302.9761</td>\n",
       "      <td>CI005193.WI</td>\n",
       "    </tr>\n",
       "    <tr>\n",
       "      <th>2021-12-24</th>\n",
       "      <td>1272.1926</td>\n",
       "      <td>1272.4634</td>\n",
       "      <td>1253.1270</td>\n",
       "      <td>1256.6327</td>\n",
       "      <td>CI005198.WI</td>\n",
       "    </tr>\n",
       "    <tr>\n",
       "      <th>2021-12-24</th>\n",
       "      <td>1339.4009</td>\n",
       "      <td>1359.9758</td>\n",
       "      <td>1336.4431</td>\n",
       "      <td>1359.0166</td>\n",
       "      <td>CI005813.WI</td>\n",
       "    </tr>\n",
       "    <tr>\n",
       "      <th>2021-12-24</th>\n",
       "      <td>1880.8900</td>\n",
       "      <td>1880.8900</td>\n",
       "      <td>1864.3843</td>\n",
       "      <td>1871.1951</td>\n",
       "      <td>CI005166.WI</td>\n",
       "    </tr>\n",
       "  </tbody>\n",
       "</table>\n",
       "</div>"
      ],
      "text/plain": [
       "                 OPEN       HIGH        LOW      CLOSE       symbol\n",
       "2021-12-24   140.0056   140.2271   137.1613   137.6010  CI005101.WI\n",
       "2021-12-24  2370.3181  2373.3293  2294.6929  2302.9761  CI005193.WI\n",
       "2021-12-24  1272.1926  1272.4634  1253.1270  1256.6327  CI005198.WI\n",
       "2021-12-24  1339.4009  1359.9758  1336.4431  1359.0166  CI005813.WI\n",
       "2021-12-24  1880.8900  1880.8900  1864.3843  1871.1951  CI005166.WI"
      ]
     },
     "execution_count": 10,
     "metadata": {},
     "output_type": "execute_result"
    }
   ],
   "source": [
    "price.head()"
   ]
  },
  {
   "cell_type": "code",
   "execution_count": 11,
   "id": "f4d0490e",
   "metadata": {},
   "outputs": [
    {
     "data": {
      "text/html": [
       "<div>\n",
       "<style scoped>\n",
       "    .dataframe tbody tr th:only-of-type {\n",
       "        vertical-align: middle;\n",
       "    }\n",
       "\n",
       "    .dataframe tbody tr th {\n",
       "        vertical-align: top;\n",
       "    }\n",
       "\n",
       "    .dataframe thead th {\n",
       "        text-align: right;\n",
       "    }\n",
       "</style>\n",
       "<table border=\"1\" class=\"dataframe\">\n",
       "  <thead>\n",
       "    <tr style=\"text-align: right;\">\n",
       "      <th>ts_code</th>\n",
       "      <th>000009.SH</th>\n",
       "      <th>000010.SH</th>\n",
       "      <th>000016.SH</th>\n",
       "      <th>000300.SH</th>\n",
       "      <th>000688.SH</th>\n",
       "      <th>000852.SH</th>\n",
       "      <th>000903.SH</th>\n",
       "      <th>000905.SH</th>\n",
       "      <th>000906.SH</th>\n",
       "      <th>399001.SZ</th>\n",
       "      <th>399005.SZ</th>\n",
       "      <th>399006.SZ</th>\n",
       "      <th>399330.SZ</th>\n",
       "    </tr>\n",
       "    <tr>\n",
       "      <th>trade_date</th>\n",
       "      <th></th>\n",
       "      <th></th>\n",
       "      <th></th>\n",
       "      <th></th>\n",
       "      <th></th>\n",
       "      <th></th>\n",
       "      <th></th>\n",
       "      <th></th>\n",
       "      <th></th>\n",
       "      <th></th>\n",
       "      <th></th>\n",
       "      <th></th>\n",
       "      <th></th>\n",
       "    </tr>\n",
       "  </thead>\n",
       "  <tbody>\n",
       "    <tr>\n",
       "      <th>20050104</th>\n",
       "      <td>858.097</td>\n",
       "      <td>2349.311</td>\n",
       "      <td>836.988</td>\n",
       "      <td>994.769</td>\n",
       "      <td>NaN</td>\n",
       "      <td>996.278</td>\n",
       "      <td>NaN</td>\n",
       "      <td>996.682</td>\n",
       "      <td>995.097</td>\n",
       "      <td>3051.236</td>\n",
       "      <td>NaN</td>\n",
       "      <td>NaN</td>\n",
       "      <td>NaN</td>\n",
       "    </tr>\n",
       "    <tr>\n",
       "      <th>20050105</th>\n",
       "      <td>847.835</td>\n",
       "      <td>2318.164</td>\n",
       "      <td>825.707</td>\n",
       "      <td>981.577</td>\n",
       "      <td>NaN</td>\n",
       "      <td>989.873</td>\n",
       "      <td>NaN</td>\n",
       "      <td>986.570</td>\n",
       "      <td>982.918</td>\n",
       "      <td>3020.719</td>\n",
       "      <td>NaN</td>\n",
       "      <td>NaN</td>\n",
       "      <td>NaN</td>\n",
       "    </tr>\n",
       "    <tr>\n",
       "      <th>20050106</th>\n",
       "      <td>860.235</td>\n",
       "      <td>2341.513</td>\n",
       "      <td>831.989</td>\n",
       "      <td>993.331</td>\n",
       "      <td>NaN</td>\n",
       "      <td>1014.965</td>\n",
       "      <td>NaN</td>\n",
       "      <td>1003.490</td>\n",
       "      <td>996.098</td>\n",
       "      <td>3054.099</td>\n",
       "      <td>NaN</td>\n",
       "      <td>NaN</td>\n",
       "      <td>NaN</td>\n",
       "    </tr>\n",
       "    <tr>\n",
       "      <th>20050107</th>\n",
       "      <td>852.535</td>\n",
       "      <td>2314.777</td>\n",
       "      <td>822.669</td>\n",
       "      <td>983.045</td>\n",
       "      <td>NaN</td>\n",
       "      <td>1005.515</td>\n",
       "      <td>NaN</td>\n",
       "      <td>993.434</td>\n",
       "      <td>985.780</td>\n",
       "      <td>3028.688</td>\n",
       "      <td>NaN</td>\n",
       "      <td>NaN</td>\n",
       "      <td>NaN</td>\n",
       "    </tr>\n",
       "    <tr>\n",
       "      <th>20050110</th>\n",
       "      <td>855.513</td>\n",
       "      <td>2318.808</td>\n",
       "      <td>823.766</td>\n",
       "      <td>983.760</td>\n",
       "      <td>NaN</td>\n",
       "      <td>1011.925</td>\n",
       "      <td>NaN</td>\n",
       "      <td>996.928</td>\n",
       "      <td>987.322</td>\n",
       "      <td>3032.843</td>\n",
       "      <td>NaN</td>\n",
       "      <td>NaN</td>\n",
       "      <td>NaN</td>\n",
       "    </tr>\n",
       "  </tbody>\n",
       "</table>\n",
       "</div>"
      ],
      "text/plain": [
       "ts_code     000009.SH  000010.SH  000016.SH  000300.SH  000688.SH  000852.SH  \\\n",
       "trade_date                                                                     \n",
       "20050104      858.097   2349.311    836.988    994.769        NaN    996.278   \n",
       "20050105      847.835   2318.164    825.707    981.577        NaN    989.873   \n",
       "20050106      860.235   2341.513    831.989    993.331        NaN   1014.965   \n",
       "20050107      852.535   2314.777    822.669    983.045        NaN   1005.515   \n",
       "20050110      855.513   2318.808    823.766    983.760        NaN   1011.925   \n",
       "\n",
       "ts_code     000903.SH  000905.SH  000906.SH  399001.SZ  399005.SZ  399006.SZ  \\\n",
       "trade_date                                                                     \n",
       "20050104          NaN    996.682    995.097   3051.236        NaN        NaN   \n",
       "20050105          NaN    986.570    982.918   3020.719        NaN        NaN   \n",
       "20050106          NaN   1003.490    996.098   3054.099        NaN        NaN   \n",
       "20050107          NaN    993.434    985.780   3028.688        NaN        NaN   \n",
       "20050110          NaN    996.928    987.322   3032.843        NaN        NaN   \n",
       "\n",
       "ts_code     399330.SZ  \n",
       "trade_date             \n",
       "20050104          NaN  \n",
       "20050105          NaN  \n",
       "20050106          NaN  \n",
       "20050107          NaN  \n",
       "20050110          NaN  "
      ]
     },
     "execution_count": 11,
     "metadata": {},
     "output_type": "execute_result"
    }
   ],
   "source": [
    "test_open.head()"
   ]
  },
  {
   "cell_type": "code",
   "execution_count": 13,
   "id": "6c1b0c2e",
   "metadata": {},
   "outputs": [],
   "source": []
  },
  {
   "cell_type": "code",
   "execution_count": 12,
   "id": "a5956de4",
   "metadata": {},
   "outputs": [],
   "source": [
    "df_T = test_open.stack()"
   ]
  },
  {
   "cell_type": "code",
   "execution_count": 13,
   "id": "5fec5ec1",
   "metadata": {},
   "outputs": [
    {
     "data": {
      "text/plain": [
       "trade_date  ts_code  \n",
       "20050104    000009.SH     858.097\n",
       "            000010.SH    2349.311\n",
       "            000016.SH     836.988\n",
       "            000300.SH     994.769\n",
       "            000852.SH     996.278\n",
       "dtype: float64"
      ]
     },
     "execution_count": 13,
     "metadata": {},
     "output_type": "execute_result"
    }
   ],
   "source": [
    "df_T.head()"
   ]
  },
  {
   "cell_type": "code",
   "execution_count": 15,
   "id": "319f33ef",
   "metadata": {},
   "outputs": [],
   "source": [
    "df_new=df_T.to_frame().head()"
   ]
  },
  {
   "cell_type": "code",
   "execution_count": 18,
   "id": "fba73873",
   "metadata": {},
   "outputs": [
    {
     "ename": "KeyError",
     "evalue": "'trade_date'",
     "output_type": "error",
     "traceback": [
      "\u001b[1;31m---------------------------------------------------------------------------\u001b[0m",
      "\u001b[1;31mKeyError\u001b[0m                                  Traceback (most recent call last)",
      "\u001b[1;32m~\\AppData\\Local\\Temp/ipykernel_29620/832104843.py\u001b[0m in \u001b[0;36m<module>\u001b[1;34m\u001b[0m\n\u001b[1;32m----> 1\u001b[1;33m \u001b[0mdf_new\u001b[0m\u001b[1;33m.\u001b[0m\u001b[0mindex\u001b[0m \u001b[1;33m=\u001b[0m \u001b[0mpd\u001b[0m\u001b[1;33m.\u001b[0m\u001b[0mto_datetime\u001b[0m\u001b[1;33m(\u001b[0m\u001b[0mdf_new\u001b[0m\u001b[1;33m[\u001b[0m\u001b[1;34m'trade_date'\u001b[0m\u001b[1;33m]\u001b[0m\u001b[1;33m)\u001b[0m\u001b[1;33m\u001b[0m\u001b[1;33m\u001b[0m\u001b[0m\n\u001b[0m",
      "\u001b[1;32mC:\\ProgramData\\Anaconda3\\lib\\site-packages\\pandas\\core\\frame.py\u001b[0m in \u001b[0;36m__getitem__\u001b[1;34m(self, key)\u001b[0m\n\u001b[0;32m   3456\u001b[0m             \u001b[1;32mif\u001b[0m \u001b[0mself\u001b[0m\u001b[1;33m.\u001b[0m\u001b[0mcolumns\u001b[0m\u001b[1;33m.\u001b[0m\u001b[0mnlevels\u001b[0m \u001b[1;33m>\u001b[0m \u001b[1;36m1\u001b[0m\u001b[1;33m:\u001b[0m\u001b[1;33m\u001b[0m\u001b[1;33m\u001b[0m\u001b[0m\n\u001b[0;32m   3457\u001b[0m                 \u001b[1;32mreturn\u001b[0m \u001b[0mself\u001b[0m\u001b[1;33m.\u001b[0m\u001b[0m_getitem_multilevel\u001b[0m\u001b[1;33m(\u001b[0m\u001b[0mkey\u001b[0m\u001b[1;33m)\u001b[0m\u001b[1;33m\u001b[0m\u001b[1;33m\u001b[0m\u001b[0m\n\u001b[1;32m-> 3458\u001b[1;33m             \u001b[0mindexer\u001b[0m \u001b[1;33m=\u001b[0m \u001b[0mself\u001b[0m\u001b[1;33m.\u001b[0m\u001b[0mcolumns\u001b[0m\u001b[1;33m.\u001b[0m\u001b[0mget_loc\u001b[0m\u001b[1;33m(\u001b[0m\u001b[0mkey\u001b[0m\u001b[1;33m)\u001b[0m\u001b[1;33m\u001b[0m\u001b[1;33m\u001b[0m\u001b[0m\n\u001b[0m\u001b[0;32m   3459\u001b[0m             \u001b[1;32mif\u001b[0m \u001b[0mis_integer\u001b[0m\u001b[1;33m(\u001b[0m\u001b[0mindexer\u001b[0m\u001b[1;33m)\u001b[0m\u001b[1;33m:\u001b[0m\u001b[1;33m\u001b[0m\u001b[1;33m\u001b[0m\u001b[0m\n\u001b[0;32m   3460\u001b[0m                 \u001b[0mindexer\u001b[0m \u001b[1;33m=\u001b[0m \u001b[1;33m[\u001b[0m\u001b[0mindexer\u001b[0m\u001b[1;33m]\u001b[0m\u001b[1;33m\u001b[0m\u001b[1;33m\u001b[0m\u001b[0m\n",
      "\u001b[1;32mC:\\ProgramData\\Anaconda3\\lib\\site-packages\\pandas\\core\\indexes\\range.py\u001b[0m in \u001b[0;36mget_loc\u001b[1;34m(self, key, method, tolerance)\u001b[0m\n\u001b[0;32m    386\u001b[0m                 \u001b[1;32mexcept\u001b[0m \u001b[0mValueError\u001b[0m \u001b[1;32mas\u001b[0m \u001b[0merr\u001b[0m\u001b[1;33m:\u001b[0m\u001b[1;33m\u001b[0m\u001b[1;33m\u001b[0m\u001b[0m\n\u001b[0;32m    387\u001b[0m                     \u001b[1;32mraise\u001b[0m \u001b[0mKeyError\u001b[0m\u001b[1;33m(\u001b[0m\u001b[0mkey\u001b[0m\u001b[1;33m)\u001b[0m \u001b[1;32mfrom\u001b[0m \u001b[0merr\u001b[0m\u001b[1;33m\u001b[0m\u001b[1;33m\u001b[0m\u001b[0m\n\u001b[1;32m--> 388\u001b[1;33m             \u001b[1;32mraise\u001b[0m \u001b[0mKeyError\u001b[0m\u001b[1;33m(\u001b[0m\u001b[0mkey\u001b[0m\u001b[1;33m)\u001b[0m\u001b[1;33m\u001b[0m\u001b[1;33m\u001b[0m\u001b[0m\n\u001b[0m\u001b[0;32m    389\u001b[0m         \u001b[1;32mreturn\u001b[0m \u001b[0msuper\u001b[0m\u001b[1;33m(\u001b[0m\u001b[1;33m)\u001b[0m\u001b[1;33m.\u001b[0m\u001b[0mget_loc\u001b[0m\u001b[1;33m(\u001b[0m\u001b[0mkey\u001b[0m\u001b[1;33m,\u001b[0m \u001b[0mmethod\u001b[0m\u001b[1;33m=\u001b[0m\u001b[0mmethod\u001b[0m\u001b[1;33m,\u001b[0m \u001b[0mtolerance\u001b[0m\u001b[1;33m=\u001b[0m\u001b[0mtolerance\u001b[0m\u001b[1;33m)\u001b[0m\u001b[1;33m\u001b[0m\u001b[1;33m\u001b[0m\u001b[0m\n\u001b[0;32m    390\u001b[0m \u001b[1;33m\u001b[0m\u001b[0m\n",
      "\u001b[1;31mKeyError\u001b[0m: 'trade_date'"
     ]
    }
   ],
   "source": [
    "df_new.index = pd.to_datetime(df_new['trade_date'])"
   ]
  },
  {
   "cell_type": "code",
   "execution_count": 24,
   "id": "b7405221",
   "metadata": {},
   "outputs": [
    {
     "data": {
      "text/plain": [
       "RangeIndex(start=0, stop=1, step=1)"
      ]
     },
     "execution_count": 24,
     "metadata": {},
     "output_type": "execute_result"
    }
   ],
   "source": [
    "df_new.columns"
   ]
  },
  {
   "cell_type": "code",
   "execution_count": 25,
   "id": "2f73ba0c",
   "metadata": {},
   "outputs": [
    {
     "data": {
      "text/html": [
       "<div>\n",
       "<style scoped>\n",
       "    .dataframe tbody tr th:only-of-type {\n",
       "        vertical-align: middle;\n",
       "    }\n",
       "\n",
       "    .dataframe tbody tr th {\n",
       "        vertical-align: top;\n",
       "    }\n",
       "\n",
       "    .dataframe thead th {\n",
       "        text-align: right;\n",
       "    }\n",
       "</style>\n",
       "<table border=\"1\" class=\"dataframe\">\n",
       "  <thead>\n",
       "    <tr style=\"text-align: right;\">\n",
       "      <th></th>\n",
       "      <th></th>\n",
       "      <th>0</th>\n",
       "    </tr>\n",
       "    <tr>\n",
       "      <th>trade_date</th>\n",
       "      <th>ts_code</th>\n",
       "      <th></th>\n",
       "    </tr>\n",
       "  </thead>\n",
       "  <tbody>\n",
       "    <tr>\n",
       "      <th rowspan=\"5\" valign=\"top\">20050104</th>\n",
       "      <th>000009.SH</th>\n",
       "      <td>858.097</td>\n",
       "    </tr>\n",
       "    <tr>\n",
       "      <th>000010.SH</th>\n",
       "      <td>2349.311</td>\n",
       "    </tr>\n",
       "    <tr>\n",
       "      <th>000016.SH</th>\n",
       "      <td>836.988</td>\n",
       "    </tr>\n",
       "    <tr>\n",
       "      <th>000300.SH</th>\n",
       "      <td>994.769</td>\n",
       "    </tr>\n",
       "    <tr>\n",
       "      <th>000852.SH</th>\n",
       "      <td>996.278</td>\n",
       "    </tr>\n",
       "  </tbody>\n",
       "</table>\n",
       "</div>"
      ],
      "text/plain": [
       "                             0\n",
       "trade_date ts_code            \n",
       "20050104   000009.SH   858.097\n",
       "           000010.SH  2349.311\n",
       "           000016.SH   836.988\n",
       "           000300.SH   994.769\n",
       "           000852.SH   996.278"
      ]
     },
     "execution_count": 25,
     "metadata": {},
     "output_type": "execute_result"
    }
   ],
   "source": [
    "df_new.head()"
   ]
  },
  {
   "cell_type": "code",
   "execution_count": 26,
   "id": "5c997909",
   "metadata": {},
   "outputs": [],
   "source": [
    "df_new1=df_new.reset_index()"
   ]
  },
  {
   "cell_type": "code",
   "execution_count": 34,
   "id": "a22862f6",
   "metadata": {},
   "outputs": [
    {
     "data": {
      "text/html": [
       "<div>\n",
       "<style scoped>\n",
       "    .dataframe tbody tr th:only-of-type {\n",
       "        vertical-align: middle;\n",
       "    }\n",
       "\n",
       "    .dataframe tbody tr th {\n",
       "        vertical-align: top;\n",
       "    }\n",
       "\n",
       "    .dataframe thead th {\n",
       "        text-align: right;\n",
       "    }\n",
       "</style>\n",
       "<table border=\"1\" class=\"dataframe\">\n",
       "  <thead>\n",
       "    <tr style=\"text-align: right;\">\n",
       "      <th></th>\n",
       "      <th>symbol</th>\n",
       "      <th>OPEN</th>\n",
       "    </tr>\n",
       "    <tr>\n",
       "      <th>trade_date</th>\n",
       "      <th></th>\n",
       "      <th></th>\n",
       "    </tr>\n",
       "  </thead>\n",
       "  <tbody>\n",
       "    <tr>\n",
       "      <th>2005-01-04</th>\n",
       "      <td>000009.SH</td>\n",
       "      <td>858.097</td>\n",
       "    </tr>\n",
       "    <tr>\n",
       "      <th>2005-01-04</th>\n",
       "      <td>000010.SH</td>\n",
       "      <td>2349.311</td>\n",
       "    </tr>\n",
       "    <tr>\n",
       "      <th>2005-01-04</th>\n",
       "      <td>000016.SH</td>\n",
       "      <td>836.988</td>\n",
       "    </tr>\n",
       "    <tr>\n",
       "      <th>2005-01-04</th>\n",
       "      <td>000300.SH</td>\n",
       "      <td>994.769</td>\n",
       "    </tr>\n",
       "    <tr>\n",
       "      <th>2005-01-04</th>\n",
       "      <td>000852.SH</td>\n",
       "      <td>996.278</td>\n",
       "    </tr>\n",
       "  </tbody>\n",
       "</table>\n",
       "</div>"
      ],
      "text/plain": [
       "               symbol      OPEN\n",
       "trade_date                     \n",
       "2005-01-04  000009.SH   858.097\n",
       "2005-01-04  000010.SH  2349.311\n",
       "2005-01-04  000016.SH   836.988\n",
       "2005-01-04  000300.SH   994.769\n",
       "2005-01-04  000852.SH   996.278"
      ]
     },
     "execution_count": 34,
     "metadata": {},
     "output_type": "execute_result"
    }
   ],
   "source": [
    "df_new1.head()"
   ]
  },
  {
   "cell_type": "code",
   "execution_count": 28,
   "id": "9083e055",
   "metadata": {},
   "outputs": [],
   "source": [
    "df_new1.columns = ['trade_date', 'symbol', 'OPEN']"
   ]
  },
  {
   "cell_type": "code",
   "execution_count": 31,
   "id": "39c4374b",
   "metadata": {},
   "outputs": [],
   "source": [
    "df_new1.index = pd.to_datetime(df_new1['trade_date'])"
   ]
  },
  {
   "cell_type": "code",
   "execution_count": 33,
   "id": "0b6ade8a",
   "metadata": {},
   "outputs": [],
   "source": [
    "del df_new1['trade_date']"
   ]
  },
  {
   "cell_type": "code",
   "execution_count": 35,
   "id": "afe06c1f",
   "metadata": {},
   "outputs": [
    {
     "data": {
      "text/html": [
       "<div>\n",
       "<style scoped>\n",
       "    .dataframe tbody tr th:only-of-type {\n",
       "        vertical-align: middle;\n",
       "    }\n",
       "\n",
       "    .dataframe tbody tr th {\n",
       "        vertical-align: top;\n",
       "    }\n",
       "\n",
       "    .dataframe thead th {\n",
       "        text-align: right;\n",
       "    }\n",
       "</style>\n",
       "<table border=\"1\" class=\"dataframe\">\n",
       "  <thead>\n",
       "    <tr style=\"text-align: right;\">\n",
       "      <th></th>\n",
       "      <th>symbol</th>\n",
       "      <th>OPEN</th>\n",
       "    </tr>\n",
       "    <tr>\n",
       "      <th>trade_date</th>\n",
       "      <th></th>\n",
       "      <th></th>\n",
       "    </tr>\n",
       "  </thead>\n",
       "  <tbody>\n",
       "    <tr>\n",
       "      <th>2005-01-04</th>\n",
       "      <td>000009.SH</td>\n",
       "      <td>858.097</td>\n",
       "    </tr>\n",
       "    <tr>\n",
       "      <th>2005-01-04</th>\n",
       "      <td>000010.SH</td>\n",
       "      <td>2349.311</td>\n",
       "    </tr>\n",
       "    <tr>\n",
       "      <th>2005-01-04</th>\n",
       "      <td>000016.SH</td>\n",
       "      <td>836.988</td>\n",
       "    </tr>\n",
       "    <tr>\n",
       "      <th>2005-01-04</th>\n",
       "      <td>000300.SH</td>\n",
       "      <td>994.769</td>\n",
       "    </tr>\n",
       "    <tr>\n",
       "      <th>2005-01-04</th>\n",
       "      <td>000852.SH</td>\n",
       "      <td>996.278</td>\n",
       "    </tr>\n",
       "  </tbody>\n",
       "</table>\n",
       "</div>"
      ],
      "text/plain": [
       "               symbol      OPEN\n",
       "trade_date                     \n",
       "2005-01-04  000009.SH   858.097\n",
       "2005-01-04  000010.SH  2349.311\n",
       "2005-01-04  000016.SH   836.988\n",
       "2005-01-04  000300.SH   994.769\n",
       "2005-01-04  000852.SH   996.278"
      ]
     },
     "execution_count": 35,
     "metadata": {},
     "output_type": "execute_result"
    }
   ],
   "source": [
    "df_new1.head()"
   ]
  },
  {
   "cell_type": "code",
   "execution_count": 36,
   "id": "42650a37",
   "metadata": {},
   "outputs": [],
   "source": [
    "test_high1 = test_high.stack()\n",
    "test_high1 = test_high1.reset_index()\n",
    "test_high1.columns = ['trade_date', 'symbol', 'high']\n",
    "test_high1.index = pd.to_datetime(test_high1['trade_date'])\n",
    "del test_high1['trade_date']"
   ]
  },
  {
   "cell_type": "code",
   "execution_count": 37,
   "id": "906b5bba",
   "metadata": {},
   "outputs": [
    {
     "data": {
      "text/html": [
       "<div>\n",
       "<style scoped>\n",
       "    .dataframe tbody tr th:only-of-type {\n",
       "        vertical-align: middle;\n",
       "    }\n",
       "\n",
       "    .dataframe tbody tr th {\n",
       "        vertical-align: top;\n",
       "    }\n",
       "\n",
       "    .dataframe thead th {\n",
       "        text-align: right;\n",
       "    }\n",
       "</style>\n",
       "<table border=\"1\" class=\"dataframe\">\n",
       "  <thead>\n",
       "    <tr style=\"text-align: right;\">\n",
       "      <th></th>\n",
       "      <th>symbol</th>\n",
       "      <th>high</th>\n",
       "    </tr>\n",
       "    <tr>\n",
       "      <th>trade_date</th>\n",
       "      <th></th>\n",
       "      <th></th>\n",
       "    </tr>\n",
       "  </thead>\n",
       "  <tbody>\n",
       "    <tr>\n",
       "      <th>2005-01-04</th>\n",
       "      <td>000009.SH</td>\n",
       "      <td>858.097</td>\n",
       "    </tr>\n",
       "    <tr>\n",
       "      <th>2005-01-04</th>\n",
       "      <td>000010.SH</td>\n",
       "      <td>2349.311</td>\n",
       "    </tr>\n",
       "    <tr>\n",
       "      <th>2005-01-04</th>\n",
       "      <td>000016.SH</td>\n",
       "      <td>836.988</td>\n",
       "    </tr>\n",
       "    <tr>\n",
       "      <th>2005-01-04</th>\n",
       "      <td>000300.SH</td>\n",
       "      <td>994.769</td>\n",
       "    </tr>\n",
       "    <tr>\n",
       "      <th>2005-01-04</th>\n",
       "      <td>000852.SH</td>\n",
       "      <td>996.278</td>\n",
       "    </tr>\n",
       "  </tbody>\n",
       "</table>\n",
       "</div>"
      ],
      "text/plain": [
       "               symbol      high\n",
       "trade_date                     \n",
       "2005-01-04  000009.SH   858.097\n",
       "2005-01-04  000010.SH  2349.311\n",
       "2005-01-04  000016.SH   836.988\n",
       "2005-01-04  000300.SH   994.769\n",
       "2005-01-04  000852.SH   996.278"
      ]
     },
     "execution_count": 37,
     "metadata": {},
     "output_type": "execute_result"
    }
   ],
   "source": [
    "test_high1.head()"
   ]
  },
  {
   "cell_type": "code",
   "execution_count": 38,
   "id": "6de24fec",
   "metadata": {},
   "outputs": [],
   "source": [
    "import tushare as ts"
   ]
  },
  {
   "cell_type": "code",
   "execution_count": 40,
   "id": "7c3c9574",
   "metadata": {},
   "outputs": [],
   "source": [
    "setting = json.load(open('C://config//config.json'))\n",
    "# pro  = foundation_tushare.TuShare(setting['token'], max_retry=60)\n",
    "ts.set_token(setting['token'])\n",
    "pro = ts.pro_api(timeout=5)"
   ]
  },
  {
   "cell_type": "code",
   "execution_count": 72,
   "id": "22a072ac",
   "metadata": {},
   "outputs": [
    {
     "data": {
      "text/html": [
       "<div>\n",
       "<style scoped>\n",
       "    .dataframe tbody tr th:only-of-type {\n",
       "        vertical-align: middle;\n",
       "    }\n",
       "\n",
       "    .dataframe tbody tr th {\n",
       "        vertical-align: top;\n",
       "    }\n",
       "\n",
       "    .dataframe thead th {\n",
       "        text-align: right;\n",
       "    }\n",
       "</style>\n",
       "<table border=\"1\" class=\"dataframe\">\n",
       "  <thead>\n",
       "    <tr style=\"text-align: right;\">\n",
       "      <th></th>\n",
       "      <th>ts_code</th>\n",
       "      <th>trade_date</th>\n",
       "      <th>close</th>\n",
       "      <th>open</th>\n",
       "      <th>high</th>\n",
       "      <th>low</th>\n",
       "      <th>pre_close</th>\n",
       "      <th>change</th>\n",
       "      <th>pct_chg</th>\n",
       "      <th>vol</th>\n",
       "      <th>amount</th>\n",
       "    </tr>\n",
       "  </thead>\n",
       "  <tbody>\n",
       "    <tr>\n",
       "      <th>0</th>\n",
       "      <td>000009.SH</td>\n",
       "      <td>20220812</td>\n",
       "      <td>6138.9258</td>\n",
       "      <td>6156.239</td>\n",
       "      <td>6182.3101</td>\n",
       "      <td>6136.6056</td>\n",
       "      <td>6166.1484</td>\n",
       "      <td>-27.2226</td>\n",
       "      <td>-0.4415</td>\n",
       "      <td>59292355.0</td>\n",
       "      <td>87348612.9</td>\n",
       "    </tr>\n",
       "  </tbody>\n",
       "</table>\n",
       "</div>"
      ],
      "text/plain": [
       "     ts_code trade_date      close      open       high        low  pre_close  \\\n",
       "0  000009.SH   20220812  6138.9258  6156.239  6182.3101  6136.6056  6166.1484   \n",
       "\n",
       "    change  pct_chg         vol      amount  \n",
       "0 -27.2226  -0.4415  59292355.0  87348612.9  "
      ]
     },
     "execution_count": 72,
     "metadata": {},
     "output_type": "execute_result"
    }
   ],
   "source": [
    "pro.index_daily(ts_code='000009.SH', start_date='20220812', end_date='20220812')"
   ]
  },
  {
   "cell_type": "code",
   "execution_count": 42,
   "id": "9d0881e9",
   "metadata": {},
   "outputs": [],
   "source": [
    "test_low1 = test_low.stack()\n",
    "test_low1 = test_low1.reset_index()\n",
    "test_low1.columns = ['trade_date', 'symbol', 'low']\n",
    "test_low1.index = pd.to_datetime(test_low1['trade_date'])\n",
    "del test_low1['trade_date']"
   ]
  },
  {
   "cell_type": "code",
   "execution_count": 45,
   "id": "aac4b3d0",
   "metadata": {},
   "outputs": [
    {
     "data": {
      "text/html": [
       "<div>\n",
       "<style scoped>\n",
       "    .dataframe tbody tr th:only-of-type {\n",
       "        vertical-align: middle;\n",
       "    }\n",
       "\n",
       "    .dataframe tbody tr th {\n",
       "        vertical-align: top;\n",
       "    }\n",
       "\n",
       "    .dataframe thead th {\n",
       "        text-align: right;\n",
       "    }\n",
       "</style>\n",
       "<table border=\"1\" class=\"dataframe\">\n",
       "  <thead>\n",
       "    <tr style=\"text-align: right;\">\n",
       "      <th></th>\n",
       "      <th>symbol</th>\n",
       "      <th>close</th>\n",
       "    </tr>\n",
       "    <tr>\n",
       "      <th>trade_date</th>\n",
       "      <th></th>\n",
       "      <th></th>\n",
       "    </tr>\n",
       "  </thead>\n",
       "  <tbody>\n",
       "    <tr>\n",
       "      <th>2005-01-04</th>\n",
       "      <td>000009.SH</td>\n",
       "      <td>848.144</td>\n",
       "    </tr>\n",
       "    <tr>\n",
       "      <th>2005-01-04</th>\n",
       "      <td>000010.SH</td>\n",
       "      <td>2321.295</td>\n",
       "    </tr>\n",
       "    <tr>\n",
       "      <th>2005-01-04</th>\n",
       "      <td>000016.SH</td>\n",
       "      <td>827.071</td>\n",
       "    </tr>\n",
       "    <tr>\n",
       "      <th>2005-01-04</th>\n",
       "      <td>000300.SH</td>\n",
       "      <td>982.794</td>\n",
       "    </tr>\n",
       "    <tr>\n",
       "      <th>2005-01-04</th>\n",
       "      <td>000852.SH</td>\n",
       "      <td>989.984</td>\n",
       "    </tr>\n",
       "  </tbody>\n",
       "</table>\n",
       "</div>"
      ],
      "text/plain": [
       "               symbol     close\n",
       "trade_date                     \n",
       "2005-01-04  000009.SH   848.144\n",
       "2005-01-04  000010.SH  2321.295\n",
       "2005-01-04  000016.SH   827.071\n",
       "2005-01-04  000300.SH   982.794\n",
       "2005-01-04  000852.SH   989.984"
      ]
     },
     "execution_count": 45,
     "metadata": {},
     "output_type": "execute_result"
    }
   ],
   "source": [
    "test_close1.head()"
   ]
  },
  {
   "cell_type": "code",
   "execution_count": 44,
   "id": "e7898d8b",
   "metadata": {},
   "outputs": [],
   "source": [
    "test_close1 = test_close.stack()\n",
    "test_close1 = test_close1.reset_index()\n",
    "test_close1.columns = ['trade_date', 'symbol', 'close']\n",
    "test_close1.index = pd.to_datetime(test_close1['trade_date'])\n",
    "del test_close1['trade_date']"
   ]
  },
  {
   "cell_type": "code",
   "execution_count": 46,
   "id": "0080c5e2",
   "metadata": {},
   "outputs": [],
   "source": [
    "test_open1 = test_open.stack()\n",
    "test_open1 = test_open1.reset_index()\n",
    "test_open1.columns = ['trade_date', 'symbol', 'OPEN']"
   ]
  },
  {
   "cell_type": "code",
   "execution_count": 47,
   "id": "07993d45",
   "metadata": {},
   "outputs": [],
   "source": [
    "test_high1 = test_high.stack()\n",
    "test_high1 = test_high1.reset_index()\n",
    "test_high1.columns = ['trade_date', 'symbol', 'high']"
   ]
  },
  {
   "cell_type": "code",
   "execution_count": 49,
   "id": "ca6db4f4",
   "metadata": {},
   "outputs": [
    {
     "data": {
      "text/html": [
       "<div>\n",
       "<style scoped>\n",
       "    .dataframe tbody tr th:only-of-type {\n",
       "        vertical-align: middle;\n",
       "    }\n",
       "\n",
       "    .dataframe tbody tr th {\n",
       "        vertical-align: top;\n",
       "    }\n",
       "\n",
       "    .dataframe thead th {\n",
       "        text-align: right;\n",
       "    }\n",
       "</style>\n",
       "<table border=\"1\" class=\"dataframe\">\n",
       "  <thead>\n",
       "    <tr style=\"text-align: right;\">\n",
       "      <th></th>\n",
       "      <th>trade_date</th>\n",
       "      <th>symbol</th>\n",
       "      <th>high</th>\n",
       "    </tr>\n",
       "  </thead>\n",
       "  <tbody>\n",
       "    <tr>\n",
       "      <th>0</th>\n",
       "      <td>20050104</td>\n",
       "      <td>000009.SH</td>\n",
       "      <td>858.097</td>\n",
       "    </tr>\n",
       "    <tr>\n",
       "      <th>1</th>\n",
       "      <td>20050104</td>\n",
       "      <td>000010.SH</td>\n",
       "      <td>2349.311</td>\n",
       "    </tr>\n",
       "    <tr>\n",
       "      <th>2</th>\n",
       "      <td>20050104</td>\n",
       "      <td>000016.SH</td>\n",
       "      <td>836.988</td>\n",
       "    </tr>\n",
       "    <tr>\n",
       "      <th>3</th>\n",
       "      <td>20050104</td>\n",
       "      <td>000300.SH</td>\n",
       "      <td>994.769</td>\n",
       "    </tr>\n",
       "    <tr>\n",
       "      <th>4</th>\n",
       "      <td>20050104</td>\n",
       "      <td>000852.SH</td>\n",
       "      <td>996.278</td>\n",
       "    </tr>\n",
       "  </tbody>\n",
       "</table>\n",
       "</div>"
      ],
      "text/plain": [
       "  trade_date     symbol      high\n",
       "0   20050104  000009.SH   858.097\n",
       "1   20050104  000010.SH  2349.311\n",
       "2   20050104  000016.SH   836.988\n",
       "3   20050104  000300.SH   994.769\n",
       "4   20050104  000852.SH   996.278"
      ]
     },
     "execution_count": 49,
     "metadata": {},
     "output_type": "execute_result"
    }
   ],
   "source": [
    "test_high1.head()"
   ]
  },
  {
   "cell_type": "code",
   "execution_count": 50,
   "id": "5f75a0a2",
   "metadata": {},
   "outputs": [],
   "source": [
    "test1=pd.concat([test_high1, test_open1], axis=1, join=\"inner\")"
   ]
  },
  {
   "cell_type": "code",
   "execution_count": 54,
   "id": "5957e486",
   "metadata": {},
   "outputs": [],
   "source": [
    "test1=pd.merge(test_high1, test_open1, on=[\"trade_date\",\"symbol\"])"
   ]
  },
  {
   "cell_type": "code",
   "execution_count": 55,
   "id": "21bf4b69",
   "metadata": {},
   "outputs": [
    {
     "data": {
      "text/html": [
       "<div>\n",
       "<style scoped>\n",
       "    .dataframe tbody tr th:only-of-type {\n",
       "        vertical-align: middle;\n",
       "    }\n",
       "\n",
       "    .dataframe tbody tr th {\n",
       "        vertical-align: top;\n",
       "    }\n",
       "\n",
       "    .dataframe thead th {\n",
       "        text-align: right;\n",
       "    }\n",
       "</style>\n",
       "<table border=\"1\" class=\"dataframe\">\n",
       "  <thead>\n",
       "    <tr style=\"text-align: right;\">\n",
       "      <th></th>\n",
       "      <th>trade_date</th>\n",
       "      <th>symbol</th>\n",
       "      <th>high</th>\n",
       "      <th>OPEN</th>\n",
       "    </tr>\n",
       "  </thead>\n",
       "  <tbody>\n",
       "    <tr>\n",
       "      <th>0</th>\n",
       "      <td>20050104</td>\n",
       "      <td>000009.SH</td>\n",
       "      <td>858.097</td>\n",
       "      <td>858.097</td>\n",
       "    </tr>\n",
       "    <tr>\n",
       "      <th>1</th>\n",
       "      <td>20050104</td>\n",
       "      <td>000010.SH</td>\n",
       "      <td>2349.311</td>\n",
       "      <td>2349.311</td>\n",
       "    </tr>\n",
       "    <tr>\n",
       "      <th>2</th>\n",
       "      <td>20050104</td>\n",
       "      <td>000016.SH</td>\n",
       "      <td>836.988</td>\n",
       "      <td>836.988</td>\n",
       "    </tr>\n",
       "    <tr>\n",
       "      <th>3</th>\n",
       "      <td>20050104</td>\n",
       "      <td>000300.SH</td>\n",
       "      <td>994.769</td>\n",
       "      <td>994.769</td>\n",
       "    </tr>\n",
       "    <tr>\n",
       "      <th>4</th>\n",
       "      <td>20050104</td>\n",
       "      <td>000852.SH</td>\n",
       "      <td>996.278</td>\n",
       "      <td>996.278</td>\n",
       "    </tr>\n",
       "  </tbody>\n",
       "</table>\n",
       "</div>"
      ],
      "text/plain": [
       "  trade_date     symbol      high      OPEN\n",
       "0   20050104  000009.SH   858.097   858.097\n",
       "1   20050104  000010.SH  2349.311  2349.311\n",
       "2   20050104  000016.SH   836.988   836.988\n",
       "3   20050104  000300.SH   994.769   994.769\n",
       "4   20050104  000852.SH   996.278   996.278"
      ]
     },
     "execution_count": 55,
     "metadata": {},
     "output_type": "execute_result"
    }
   ],
   "source": [
    "test1.head()"
   ]
  },
  {
   "cell_type": "code",
   "execution_count": 59,
   "id": "ffe922ef",
   "metadata": {},
   "outputs": [],
   "source": [
    "test_open1 = test_open.stack()\n",
    "test_open1 = test_open1.reset_index()\n",
    "test_open1.columns = ['trade_date', 'symbol', 'OPEN']\n",
    "\n",
    "test_high1 = test_high.stack()\n",
    "test_high1 = test_high1.reset_index()\n",
    "test_high1.columns = ['trade_date', 'symbol', 'HIGH']\n",
    "\n",
    "test_low1 = test_low.stack()\n",
    "test_low1 = test_low1.reset_index()\n",
    "test_low1.columns = ['trade_date', 'symbol', 'LOW']\n",
    "\n",
    "test_close1 = test_close.stack()\n",
    "test_close1 = test_close1.reset_index()\n",
    "test_close1.columns = ['trade_date', 'symbol', 'CLOSE']"
   ]
  },
  {
   "cell_type": "code",
   "execution_count": 61,
   "id": "51ae927c",
   "metadata": {},
   "outputs": [],
   "source": [
    "test1 = pd.merge(test_open1,test_high1,on=[\"trade_date\",\"symbol\"])\n",
    "test2 = pd.merge(test_low1,test_close1,on=[\"trade_date\",\"symbol\"])\n",
    "test3 = pd.merge(test1,test2,on=[\"trade_date\",\"symbol\"])"
   ]
  },
  {
   "cell_type": "code",
   "execution_count": 62,
   "id": "f0be00fb",
   "metadata": {},
   "outputs": [
    {
     "data": {
      "text/html": [
       "<div>\n",
       "<style scoped>\n",
       "    .dataframe tbody tr th:only-of-type {\n",
       "        vertical-align: middle;\n",
       "    }\n",
       "\n",
       "    .dataframe tbody tr th {\n",
       "        vertical-align: top;\n",
       "    }\n",
       "\n",
       "    .dataframe thead th {\n",
       "        text-align: right;\n",
       "    }\n",
       "</style>\n",
       "<table border=\"1\" class=\"dataframe\">\n",
       "  <thead>\n",
       "    <tr style=\"text-align: right;\">\n",
       "      <th></th>\n",
       "      <th>trade_date</th>\n",
       "      <th>symbol</th>\n",
       "      <th>OPEN</th>\n",
       "      <th>HIGH</th>\n",
       "      <th>LOW</th>\n",
       "      <th>CLOSE</th>\n",
       "    </tr>\n",
       "  </thead>\n",
       "  <tbody>\n",
       "    <tr>\n",
       "      <th>0</th>\n",
       "      <td>20050104</td>\n",
       "      <td>000009.SH</td>\n",
       "      <td>858.097</td>\n",
       "      <td>858.097</td>\n",
       "      <td>846.836</td>\n",
       "      <td>848.144</td>\n",
       "    </tr>\n",
       "    <tr>\n",
       "      <th>1</th>\n",
       "      <td>20050104</td>\n",
       "      <td>000010.SH</td>\n",
       "      <td>2349.311</td>\n",
       "      <td>2349.311</td>\n",
       "      <td>2314.529</td>\n",
       "      <td>2321.295</td>\n",
       "    </tr>\n",
       "    <tr>\n",
       "      <th>2</th>\n",
       "      <td>20050104</td>\n",
       "      <td>000016.SH</td>\n",
       "      <td>836.988</td>\n",
       "      <td>836.988</td>\n",
       "      <td>824.008</td>\n",
       "      <td>827.071</td>\n",
       "    </tr>\n",
       "    <tr>\n",
       "      <th>3</th>\n",
       "      <td>20050104</td>\n",
       "      <td>000300.SH</td>\n",
       "      <td>994.769</td>\n",
       "      <td>994.769</td>\n",
       "      <td>980.658</td>\n",
       "      <td>982.794</td>\n",
       "    </tr>\n",
       "    <tr>\n",
       "      <th>4</th>\n",
       "      <td>20050104</td>\n",
       "      <td>000852.SH</td>\n",
       "      <td>996.278</td>\n",
       "      <td>996.278</td>\n",
       "      <td>982.988</td>\n",
       "      <td>989.984</td>\n",
       "    </tr>\n",
       "  </tbody>\n",
       "</table>\n",
       "</div>"
      ],
      "text/plain": [
       "  trade_date     symbol      OPEN      HIGH       LOW     CLOSE\n",
       "0   20050104  000009.SH   858.097   858.097   846.836   848.144\n",
       "1   20050104  000010.SH  2349.311  2349.311  2314.529  2321.295\n",
       "2   20050104  000016.SH   836.988   836.988   824.008   827.071\n",
       "3   20050104  000300.SH   994.769   994.769   980.658   982.794\n",
       "4   20050104  000852.SH   996.278   996.278   982.988   989.984"
      ]
     },
     "execution_count": 62,
     "metadata": {},
     "output_type": "execute_result"
    }
   ],
   "source": [
    "test3.head()"
   ]
  },
  {
   "cell_type": "code",
   "execution_count": 63,
   "id": "1fc8eb8a",
   "metadata": {},
   "outputs": [],
   "source": [
    "test3.index = pd.to_datetime(test3['trade_date'])\n",
    "del test3['trade_date']"
   ]
  },
  {
   "cell_type": "code",
   "execution_count": 73,
   "id": "c3a6f5b3",
   "metadata": {},
   "outputs": [],
   "source": [
    "test3[-2000:].to_csv('C://temp//upload//industry_zx_22.csv')"
   ]
  },
  {
   "cell_type": "code",
   "execution_count": null,
   "id": "4633520c",
   "metadata": {},
   "outputs": [],
   "source": []
  }
 ],
 "metadata": {
  "kernelspec": {
   "display_name": "Python 3 (ipykernel)",
   "language": "python",
   "name": "python3"
  },
  "language_info": {
   "codemirror_mode": {
    "name": "ipython",
    "version": 3
   },
   "file_extension": ".py",
   "mimetype": "text/x-python",
   "name": "python",
   "nbconvert_exporter": "python",
   "pygments_lexer": "ipython3",
   "version": "3.9.7"
  }
 },
 "nbformat": 4,
 "nbformat_minor": 5
}
